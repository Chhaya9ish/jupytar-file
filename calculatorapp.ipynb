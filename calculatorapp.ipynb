{
 "cells": [
  {
   "cell_type": "code",
   "execution_count": 5,
   "id": "dc4a7013-95e8-465e-b44c-a87b4570734a",
   "metadata": {},
   "outputs": [],
   "source": [
    "import google.generativeai as my_calcu\n"
   ]
  },
  {
   "cell_type": "code",
   "execution_count": 25,
   "id": "45214f3a-fbdc-42f0-b680-b57a4a96736c",
   "metadata": {},
   "outputs": [],
   "source": [
    "my_calcu.configure(api_key = \"YOUR API KEY HERE\")"
   ]
  },
  {
   "cell_type": "code",
   "execution_count": 39,
   "id": "2c7c2e0a-eb7b-4697-8129-e6ab93e6de74",
   "metadata": {},
   "outputs": [
    {
     "name": "stdout",
     "output_type": "stream",
     "text": [
      "genai.GenerativeModel(\n",
      "    model_name='models/gemini-1.5-pro',\n",
      "    generation_config={},\n",
      "    safety_settings={},\n",
      "    tools=None,\n",
      "    system_instruction=None,\n",
      "    cached_content=None\n",
      ")\n"
     ]
    }
   ],
   "source": [
    "model = my_calcu.GenerativeModel('gemini-1.5-pro')\n",
    "print(model)"
   ]
  },
  {
   "cell_type": "code",
   "execution_count": null,
   "id": "2f74825a-f657-49cd-9678-fecbdff31678",
   "metadata": {},
   "outputs": [],
   "source": [
    "user_prompt = input(\"how can i help u?!\") \n",
    "if user_prompt:\n",
    "    user_prompt = user_prompt + \".solve the euation with explanation of each step \"\n",
    "    response = model.generate_content(user_prompt)\n",
    "    print(response.text)\n",
    "else:\n",
    "    print(\"dont waste my time\")\n",
    "   "
   ]
  }
 ],
 "metadata": {
  "kernelspec": {
   "display_name": "Python [conda env:anaconda_installation] *",
   "language": "python",
   "name": "conda-env-anaconda_installation-py"
  },
  "language_info": {
   "codemirror_mode": {
    "name": "ipython",
    "version": 3
   },
   "file_extension": ".py",
   "mimetype": "text/x-python",
   "name": "python",
   "nbconvert_exporter": "python",
   "pygments_lexer": "ipython3",
   "version": "3.12.7"
  }
 },
 "nbformat": 4,
 "nbformat_minor": 5
}
